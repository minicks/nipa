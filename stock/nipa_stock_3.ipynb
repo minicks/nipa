{
  "nbformat": 4,
  "nbformat_minor": 0,
  "metadata": {
    "colab": {
      "name": "nipa_stock_3.ipynb",
      "provenance": [],
      "authorship_tag": "ABX9TyO42ofKjxka42vZufq5vM1d",
      "include_colab_link": true
    },
    "kernelspec": {
      "name": "python3",
      "display_name": "Python 3"
    }
  },
  "cells": [
    {
      "cell_type": "markdown",
      "metadata": {
        "id": "view-in-github",
        "colab_type": "text"
      },
      "source": [
        "<a href=\"https://colab.research.google.com/github/minicks/nipa/blob/master/stock/nipa_stock_3.ipynb\" target=\"_parent\"><img src=\"https://colab.research.google.com/assets/colab-badge.svg\" alt=\"Open In Colab\"/></a>"
      ]
    },
    {
      "cell_type": "markdown",
      "metadata": {
        "id": "wdOXWltv6m5g",
        "colab_type": "text"
      },
      "source": [
        "이동평균 5일선 시각화하기\n",
        "주가예측 딥러닝 모델 제작 프로세스를 따라가보는 과정입니다.\n",
        "사용된 패키지, 함수 등 모든 과정을 이해하려고 부담 갖지 않으셔도 됩니다.\n",
        "\n",
        "함수 및 라이브러리에 대한 자세한 설명은 선택과정에서 배울 수 있습니다.\n",
        "\n",
        "일자에 따른 이동평균 5일선을 시각화하여 주가의 추세를 확인해보도록 하겠습니다.\n",
        "\n",
        "plt.plot() 명령어를 사용하고, 규칙에 따라 열 데이터를 넣으면 데이터를 선 그래프로 시각화할 수 있습니다.\n",
        "\n",
        "plt.plot() 명령어의 자세한 사용법은 추후 별도로 다룰 예정이므로, 시각화된 결과물이 어떻게 나타나는지를 집중적으로 확인해봅니다."
      ]
    },
    {
      "cell_type": "code",
      "metadata": {
        "id": "MjDt89xn6k-0",
        "colab_type": "code",
        "colab": {}
      },
      "source": [
        "from datetime import datetime #날짜와 시간을 쉽게 조작할 수 있게 하는 클래스 제공\n",
        "import pandas as pd\n",
        "import matplotlib.pyplot as plt\n",
        "from elice_utils import EliceUtils\n",
        "elice_utils = EliceUtils()\n",
        "\n",
        "\n",
        "# 주식 데이터 불러오기\n",
        "df = pd.read_csv('stock.csv') \n",
        "print('초기 데이터 확인')\n",
        "print(df)\n",
        "\n",
        "\n",
        "# 주식 데이터 전처리하기(이전 문제에서 실행했던 코드)\n",
        "ma5 = df['Adj Close'].rolling(window=5).mean()\n",
        "ma20 = df['Adj Close'].rolling(window=20).mean()\n",
        "ma60 = df['Adj Close'].rolling(window=60).mean()\n",
        "\n",
        "df.insert(len(df.columns), \"MA5\", ma5)\n",
        "df.insert(len(df.columns), \"MA20\", ma20)\n",
        "df.insert(len(df.columns), \"MA60\", ma60)\n",
        "\n",
        "vma5 = df['Volume'].rolling(window=5).mean()\n",
        "df.insert(len(df.columns), \"VMA5\", vma5)\n",
        "\n",
        "\n",
        "# 이동평균선의 시각화\n",
        "plt.plot(df.index, df['MA5'], label = \"MA5\") # 이동평균선 시각화\n",
        "plt.plot(df.index, df['Adj Close'], label='Adj Close') # 수정 종가 시각화\n",
        "\n",
        "\n",
        "# 시각화 옵션 코드\n",
        "# (시각화 강의에서 별도로 다루는 내용입니다)\n",
        "plt.legend(loc='best')\n",
        "plt.xticks(rotation = 45)\n",
        "plt.grid()\n",
        "plt.savefig(\"plot.png\")\n",
        "elice_utils.send_image(\"plot.png\")"
      ],
      "execution_count": null,
      "outputs": []
    }
  ]
}