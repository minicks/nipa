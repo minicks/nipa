{
  "nbformat": 4,
  "nbformat_minor": 0,
  "metadata": {
    "colab": {
      "name": "nipa_stock_6.ipynb",
      "provenance": [],
      "authorship_tag": "ABX9TyMeaksOJxQ94TRo95Jw1lov",
      "include_colab_link": true
    },
    "kernelspec": {
      "name": "python3",
      "display_name": "Python 3"
    }
  },
  "cells": [
    {
      "cell_type": "markdown",
      "metadata": {
        "id": "view-in-github",
        "colab_type": "text"
      },
      "source": [
        "<a href=\"https://colab.research.google.com/github/minicks/nipa/blob/master/stock/nipa_stock_6.ipynb\" target=\"_parent\"><img src=\"https://colab.research.google.com/assets/colab-badge.svg\" alt=\"Open In Colab\"/></a>"
      ]
    },
    {
      "cell_type": "markdown",
      "metadata": {
        "id": "82ZRIhI18I-L",
        "colab_type": "text"
      },
      "source": [
        "변동률 시각화하기\n",
        "주가예측 딥러닝 모델 제작 프로세스를 따라가보는 과정입니다.\n",
        "사용된 패키지, 함수 등 모든 과정을 이해하려고 부담 갖지 않으셔도 됩니다.\n",
        "\n",
        "함수 및 라이브러리에 대한 자세한 설명은 선택과정에서 배울 수 있습니다.\n",
        "\n",
        "주가의 변동률을 시각화해보도록 하겠습니다."
      ]
    },
    {
      "cell_type": "code",
      "metadata": {
        "id": "r0puuEyV8Ht8",
        "colab_type": "code",
        "colab": {}
      },
      "source": [
        "from datetime import datetime #날짜와 시간을 쉽게 조작할 수 있게 하는 클래스 제공\n",
        "import pandas as pd\n",
        "import matplotlib.pyplot as plt\n",
        "from elice_utils import EliceUtils\n",
        "elice_utils = EliceUtils()\n",
        "\n",
        "\n",
        "# 주식 데이터 불러오기\n",
        "df = pd.read_csv('stock.csv') \n",
        "print('초기 데이터 확인')\n",
        "print(df)\n",
        "\n",
        "\n",
        "# 주식 데이터 전처리하기(이전 문제에서 실행했던 코드)\n",
        "df['tomorrow Adj Close']= df['Adj Close'].shift(-1) # 당일 종가가 아니라 다음 날 종가를 새로운 컬럼으로 추가하기\n",
        "df['Fluctuation']= df['tomorrow Adj Close'] - df['Adj Close'] # 주가 변동 데이터(다음날 종가 - 오늘 종가)\n",
        "df['Fluctuation Rate']= df['Fluctuation']/df['Adj Close'] # 주가 변동률 데이터(변동 / 오늘 종가)\n",
        "\n",
        "\n",
        "# 변동률의 시각화\n",
        "plt.figure(figsize=(12,8)) # 표현할 그래프의 크기 설정\n",
        "plt.plot(df.index, df['Fluctuation Rate']) # 변동률 데이터 시각화\n",
        "plt.axhline( y = 0, color = 'red', ls = '--') # 변동률 폭을 관찰하기 위한 기준 수평선 추가\n",
        "\n",
        "\n",
        "# 시각화 옵션 코드\n",
        "# (시각화 강의에서 별도로 다루는 내용입니다)\n",
        "plt.legend(loc='best')\n",
        "plt.grid()\n",
        "plt.savefig(\"plot.png\")\n",
        "elice_utils.send_image(\"plot.png\")"
      ],
      "execution_count": null,
      "outputs": []
    }
  ]
}