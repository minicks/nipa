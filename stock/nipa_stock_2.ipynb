{
  "nbformat": 4,
  "nbformat_minor": 0,
  "metadata": {
    "colab": {
      "name": "nipa_stock_2.ipynb",
      "provenance": [],
      "authorship_tag": "ABX9TyPoT+bRWtjiQ0gD9io0vAE0",
      "include_colab_link": true
    },
    "kernelspec": {
      "name": "python3",
      "display_name": "Python 3"
    }
  },
  "cells": [
    {
      "cell_type": "markdown",
      "metadata": {
        "id": "view-in-github",
        "colab_type": "text"
      },
      "source": [
        "<a href=\"https://colab.research.google.com/github/minicks/nipa/blob/master/stock/nipa_stock_2.ipynb\" target=\"_parent\"><img src=\"https://colab.research.google.com/assets/colab-badge.svg\" alt=\"Open In Colab\"/></a>"
      ]
    },
    {
      "cell_type": "markdown",
      "metadata": {
        "id": "uQKnntyE6C0t",
        "colab_type": "text"
      },
      "source": [
        "새로운 데이터 만들어 삽입하기\n",
        "주가예측 딥러닝 모델 제작 프로세스를 따라가보는 과정입니다.\n",
        "사용된 패키지, 함수 등 모든 과정을 이해하려고 부담 갖지 않으셔도 됩니다.\n",
        "\n",
        "함수 및 라이브러리에 대한 자세한 설명은 선택과정에서 배울 수 있습니다.\n",
        "\n",
        "주식 데이터에 들어있는 기본 데이터들을 가공하여, 이동평균, 거래량이동평균, 이격도 등을 계산하여 데이터프레임에 추가해보도록 하겠습니다.\n",
        "\n",
        "종가: 해당 날짜의 마감 주가\n",
        "이동평균: 해당 날짜 이전 N일 간의 평균치\n",
        "이격도: 주가와 이동평균 간의 차이 비율"
      ]
    },
    {
      "cell_type": "code",
      "metadata": {
        "id": "tu6vCLuR594Y",
        "colab_type": "code",
        "colab": {}
      },
      "source": [
        "from datetime import datetime #날짜와 시간을 쉽게 조작할 수 있게 하는 클래스 제공\n",
        "import pandas as pd\n",
        "import matplotlib.pyplot as plt\n",
        "from elice_utils import EliceUtils\n",
        "pd.set_option('display.max_columns', None)\n",
        "elice_utils = EliceUtils()\n",
        "\n",
        "\n",
        "# 주식 데이터 불러오기\n",
        "df = pd.read_csv('stock.csv') \n",
        "\n",
        "\n",
        "# 수정 종가 이동평균(MA: Moving Average) 값 구하기\n",
        "ma5 = df['Adj Close'].rolling(window=5).mean() # 수정 종가 5일 이동평균\n",
        "ma20 = df['Adj Close'].rolling(window=20).mean() # 수정 종가 20일 이동평균\n",
        "ma60 = df['Adj Close'].rolling(window=60).mean() # 수정 종가 60일 이동평균\n",
        "\n",
        "\n",
        "# 이동평균 값 추가하기\n",
        "print(df.columns)\n",
        "\n",
        "print(len(df.columns))\n",
        "df.insert(len(df.columns), \"MA5\", ma5) # 'MA5'라는 열 이름으로 ma5 값 추가\n",
        "print(len(df.columns))\n",
        "df.insert(len(df.columns), \"MA20\", ma20) # 'MA20'라는 열 이름으로 ma20 값 추가\n",
        "print(len(df.columns))\n",
        "df.insert(len(df.columns), \"MA60\", ma60) # 'MA60'라는 열 이름으로 ma60 값 추가\n",
        "\n",
        "\n",
        "# 거래량 5일 이동평균 추가\n",
        "vma5 = df['Volume'].rolling(window=5).mean() # 거래량의 5일 이동평균 구하기\n",
        "df.insert(len(df.columns), \"VMA5\", vma5) # 'VMA5'라는 열 이름으로 vma5 값 추가\n",
        "\n",
        "\n",
        "# --- 이격도 추가 --- #\n",
        "# 수정 종가 데이터를 5일 이동평균 값으로 나눈 비율\n",
        "disp5 = (df['Adj Close']/df['MA5'])*100\n",
        "\n",
        "# 이격도 데이터를 'Disp5'라는 열 이름으로 추가\n",
        "df.insert(len(df.columns), \"Disp5\", disp5) \n",
        "\n",
        "\n",
        "\n",
        "# 데이터 확인\n",
        "print('이동평균 및 이격도가 추가된 주가 데이터')\n",
        "print(df)"
      ],
      "execution_count": null,
      "outputs": []
    }
  ]
}