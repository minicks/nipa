{
  "nbformat": 4,
  "nbformat_minor": 0,
  "metadata": {
    "colab": {
      "name": "nipa_stock_7.ipynb",
      "provenance": [],
      "authorship_tag": "ABX9TyNep8gbIUDKPFKNsxkO4NAl",
      "include_colab_link": true
    },
    "kernelspec": {
      "name": "python3",
      "display_name": "Python 3"
    }
  },
  "cells": [
    {
      "cell_type": "markdown",
      "metadata": {
        "id": "view-in-github",
        "colab_type": "text"
      },
      "source": [
        "<a href=\"https://colab.research.google.com/github/minicks/nipa/blob/master/stock/nipa_stock_7.ipynb\" target=\"_parent\"><img src=\"https://colab.research.google.com/assets/colab-badge.svg\" alt=\"Open In Colab\"/></a>"
      ]
    },
    {
      "cell_type": "markdown",
      "metadata": {
        "id": "8z8rKfrQ8aPt",
        "colab_type": "text"
      },
      "source": [
        "변동률 분포 시각화하기\n",
        "주가예측 딥러닝 모델 제작 프로세스를 따라가보는 과정입니다.\n",
        "사용된 패키지, 함수 등 모든 과정을 이해하려고 부담 갖지 않으셔도 됩니다.\n",
        "\n",
        "함수 및 라이브러리에 대한 자세한 설명은 선택과정에서 배울 수 있습니다.\n",
        "\n",
        "히스토그램은 대략적인 데이터의 분포를 알 수 있도록 특정 구간별로 얼마나 많은 데이터가 있는지를 나타내주는 그래프입니다. 데이터의 분포를 알면 값이 어떤 값에 치중되어 있는지, 이상치(outlier)가 있는지 등을 직관적으로 파악할 수 있습니다.\n",
        "\n",
        "또한, 히스토그램과 함께 커널 밀도 추정(KDE) 그래프로도 표현해보도록 하겠습니다. 지금 단계에서 커널 밀도 추정의 수학적 정의를 내리는 것은 어려우므로, 히스토그램을 조금 더 부드럽게 바꾸어주는 개념 정도로 이해하시고 넘어가시면 될 것 같습니다."
      ]
    },
    {
      "cell_type": "code",
      "metadata": {
        "id": "AotHgoY_8ZKA",
        "colab_type": "code",
        "colab": {}
      },
      "source": [
        "from datetime import datetime #날짜와 시간을 쉽게 조작할 수 있게 하는 클래스 제공\n",
        "import pandas as pd\n",
        "import matplotlib.pyplot as plt\n",
        "from elice_utils import EliceUtils\n",
        "elice_utils = EliceUtils()\n",
        "\n",
        "\n",
        "\n",
        "# 주식 데이터 불러오기\n",
        "df = pd.read_csv('stock.csv') \n",
        "print('초기 데이터 확인')\n",
        "print(df)\n",
        "\n",
        "\n",
        "# 주식 데이터 전처리하기(이전 문제에서 실행했던 코드)\n",
        "df['tomorrow Adj Close']= df['Adj Close'].shift(-1) # 당일 종가가 아니라 다음 날 종가를 새로운 컬럼으로 추가하기\n",
        "df['Fluctuation']= df['tomorrow Adj Close'] - df['Adj Close'] # 주가 변동 데이터(다음날 종가 - 오늘 종가)\n",
        "df['Fluctuation Rate']= df['Fluctuation']/df['Adj Close'] # 주가 변동률 데이터(변동 / 오늘 종가)\n",
        "\n",
        "\n",
        "# 히스토그램을 이용해 분포 살펴보기\n",
        "df['Fluctuation Rate'].plot.hist()\n",
        "plt.title('Fluctuation Rate Histogram')\n",
        "\n",
        "\n",
        "# 현재까지 그려진 그래프를 보여줌\n",
        "plt.savefig(\"plot.png\")\n",
        "elice_utils.send_image(\"plot.png\")\n",
        "plt.cla() #그래프를 그린 후 초기화\n",
        "\n",
        "\n",
        "# 커널 밀도함수를 이용해 분포 살펴보기\n",
        "df['Fluctuation Rate'].plot.kde()\n",
        "plt.title('Fluctuation Rate KDE plot')\n",
        "\n",
        "\n",
        "# 현재까지 그려진 그래프를 보여줌\n",
        "plt.savefig(\"plot.png\")\n",
        "elice_utils.send_image(\"plot.png\")"
      ],
      "execution_count": null,
      "outputs": []
    }
  ]
}