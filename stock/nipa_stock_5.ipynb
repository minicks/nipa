{
  "nbformat": 4,
  "nbformat_minor": 0,
  "metadata": {
    "colab": {
      "name": "nipa_stock_5.ipynb",
      "provenance": [],
      "authorship_tag": "ABX9TyODccrH6SppMA+4U9BTGtaX",
      "include_colab_link": true
    },
    "kernelspec": {
      "name": "python3",
      "display_name": "Python 3"
    }
  },
  "cells": [
    {
      "cell_type": "markdown",
      "metadata": {
        "id": "view-in-github",
        "colab_type": "text"
      },
      "source": [
        "<a href=\"https://colab.research.google.com/github/minicks/nipa/blob/master/stock/nipa_stock_5.ipynb\" target=\"_parent\"><img src=\"https://colab.research.google.com/assets/colab-badge.svg\" alt=\"Open In Colab\"/></a>"
      ]
    },
    {
      "cell_type": "markdown",
      "metadata": {
        "id": "9c2NiRpu73BN",
        "colab_type": "text"
      },
      "source": [
        "주가 변동률 계산\n",
        "주가예측 딥러닝 모델 제작 프로세스를 따라가보는 과정입니다.\n",
        "사용된 패키지, 함수 등 모든 과정을 이해하려고 부담 갖지 않으셔도 됩니다.\n",
        "\n",
        "함수 및 라이브러리에 대한 자세한 설명은 선택과정에서 배울 수 있습니다.\n",
        "\n",
        "다음 날 종가를 계산하여 새로운 데이터에 추가하고, 이를 이용해 주가 변동률을 계산할 수 있습니다.\n",
        "\n",
        "변동 = 다음날 종가 - 오늘 종가\n",
        "\n",
        "주가 변동률 = 변동 / 오늘 종가"
      ]
    },
    {
      "cell_type": "code",
      "metadata": {
        "id": "FmsPFgCh70pE",
        "colab_type": "code",
        "colab": {}
      },
      "source": [
        "from datetime import datetime #날짜와 시간을 쉽게 조작할 수 있게 하는 클래스 제공\n",
        "import pandas as pd\n",
        "import matplotlib.pyplot as plt\n",
        "from elice_utils import EliceUtils\n",
        "elice_utils = EliceUtils()\n",
        "pd.set_option('display.max_columns', None)\n",
        "\n",
        "\n",
        "\n",
        "# 주식 데이터 불러오기\n",
        "df = pd.read_csv('stock.csv') \n",
        "    \n",
        "\n",
        "# 당일 종가가 아니라 다음 날 종가를 새로운 컬럼으로 추가하기\n",
        "# shift(-1) 옵션을 사용하여 데이터를 하루씩 밀어서 삽입\n",
        "df['tomorrow Adj Close']= df['Adj Close'].shift(-1)\n",
        "\n",
        "\n",
        "# 주가 변동 및 변동률(%) 추가하기 - 기대 수익률 계산 가능\n",
        "df['Fluctuation'] = df['tomorrow Adj Close'] - df['Adj Close'] # 주가 변동 데이터(다음날 종가 - 오늘 종가)\n",
        "df['Fluctuation Rate'] = df['Fluctuation'] / df['Adj Close'] # 주가 변동률 데이터(변동 / 오늘 종가)\n",
        "\n",
        "\n",
        "# 데이터 보기\n",
        "print(df)"
      ],
      "execution_count": null,
      "outputs": []
    }
  ]
}