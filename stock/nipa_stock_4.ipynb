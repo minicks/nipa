{
  "nbformat": 4,
  "nbformat_minor": 0,
  "metadata": {
    "colab": {
      "name": "nipa_stock_4.ipynb",
      "provenance": [],
      "authorship_tag": "ABX9TyNb2TcfxddTJd/5ujIs5Dxw",
      "include_colab_link": true
    },
    "kernelspec": {
      "name": "python3",
      "display_name": "Python 3"
    }
  },
  "cells": [
    {
      "cell_type": "markdown",
      "metadata": {
        "id": "view-in-github",
        "colab_type": "text"
      },
      "source": [
        "<a href=\"https://colab.research.google.com/github/minicks/nipa/blob/master/stock/nipa_stock_4.ipynb\" target=\"_parent\"><img src=\"https://colab.research.google.com/assets/colab-badge.svg\" alt=\"Open In Colab\"/></a>"
      ]
    },
    {
      "cell_type": "markdown",
      "metadata": {
        "id": "6QizsyLB7mWZ",
        "colab_type": "text"
      },
      "source": [
        "주가, 이동평균선 시각화하기\n",
        "주가예측 딥러닝 모델 제작 프로세스를 따라가보는 과정입니다.\n",
        "사용된 패키지, 함수 등 모든 과정을 이해하려고 부담 갖지 않으셔도 됩니다.\n",
        "\n",
        "함수 및 라이브러리에 대한 자세한 설명은 선택과정에서 배울 수 있습니다.\n",
        "\n",
        "이전 실습에서는 5일 이동평균선을 구해보았습니다. 이번 실습에서는 이를 응용하여 5일 이동평균선과 더불어 20일선, 60일선을 같이 시각화해보도록 하겠습니다.\n",
        "\n",
        "데이터 시각화 코드 plt.plot() 여러 개를 동시에 사용하면, 여러 데이터를 하나의 시각화 자료에 동시에 겹쳐 볼 수 있습니다. 여러 지표의 전체적인 추이를 동시에 비교하여 분석할 때 유용하게 사용되는 방법입니다."
      ]
    },
    {
      "cell_type": "code",
      "metadata": {
        "id": "dCBVBdQ6619K",
        "colab_type": "code",
        "colab": {}
      },
      "source": [
        "from datetime import datetime #날짜와 시간을 쉽게 조작할 수 있게 하는 클래스 제공\n",
        "import pandas as pd\n",
        "import matplotlib.pyplot as plt\n",
        "from elice_utils import EliceUtils\n",
        "elice_utils = EliceUtils()\n",
        "\n",
        "\n",
        "\n",
        "# 주식 데이터 불러오기\n",
        "df = pd.read_csv('stock.csv') \n",
        "print('초기 데이터 확인')\n",
        "print(df)\n",
        "\n",
        "\n",
        "# 주식 데이터 전처리하기(이전 문제에서 실행했던 코드)\n",
        "ma5 = df['Adj Close'].rolling(window=5).mean()\n",
        "ma20 = df['Adj Close'].rolling(window=20).mean()\n",
        "ma60 = df['Adj Close'].rolling(window=60).mean()\n",
        "\n",
        "df.insert(len(df.columns), \"MA5\", ma5)\n",
        "df.insert(len(df.columns), \"MA20\", ma20)\n",
        "df.insert(len(df.columns), \"MA60\", ma60)\n",
        "\n",
        "vma5 = df['Volume'].rolling(window=5).mean()\n",
        "df.insert(len(df.columns), \"VMA5\", vma5)\n",
        "\n",
        "\n",
        "# 이동평균선 시각화\n",
        "plt.plot(df['Adj Close'], label=\"Adj Close\") # 수정 종가\n",
        "plt.plot(df['MA5'], label=\"MA5\") # 종가 5일 이동평균\n",
        "plt.plot(df['MA20'], label=\"MA20\") # 종가 20일 이동평균\n",
        "plt.plot(df['MA60'], label=\"MA60\") # 종가 60일 이동평균\n",
        "\n",
        "\n",
        "# 시각화 옵션 코드\n",
        "# (시각화 강의에서 별도로 다루는 내용입니다)\n",
        "plt.legend(loc='best')\n",
        "plt.grid()\n",
        "plt.savefig(\"plot.png\")\n",
        "elice_utils.send_image(\"plot.png\")"
      ],
      "execution_count": null,
      "outputs": []
    }
  ]
}