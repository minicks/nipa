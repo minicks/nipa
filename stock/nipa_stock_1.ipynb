{
  "nbformat": 4,
  "nbformat_minor": 0,
  "metadata": {
    "colab": {
      "name": "nipa_stock_1.ipynb",
      "provenance": [],
      "authorship_tag": "ABX9TyMNDLqmLMehX9qsJHrHPS64",
      "include_colab_link": true
    },
    "kernelspec": {
      "name": "python3",
      "display_name": "Python 3"
    }
  },
  "cells": [
    {
      "cell_type": "markdown",
      "metadata": {
        "id": "view-in-github",
        "colab_type": "text"
      },
      "source": [
        "<a href=\"https://colab.research.google.com/github/minicks/nipa/blob/master/stock/nipa_stock_1.ipynb\" target=\"_parent\"><img src=\"https://colab.research.google.com/assets/colab-badge.svg\" alt=\"Open In Colab\"/></a>"
      ]
    },
    {
      "cell_type": "markdown",
      "metadata": {
        "id": "3SSGL3bZ5tJ-",
        "colab_type": "text"
      },
      "source": [
        "주식 데이터 이해하기\n",
        "주가예측 딥러닝 모델 제작 프로세스를 따라가보는 과정입니다.\n",
        "사용된 패키지, 함수 등 모든 과정을 이해하려고 부담 갖지 않으셔도 됩니다.\n",
        "\n",
        "함수 및 라이브러리에 대한 자세한 설명은 선택과정에서 배울 수 있습니다.\n",
        "\n",
        "본격적으로 주식 데이터를 분석하기 전 먼저 주식 데이터의 기본적인 구조 및 정보를 확인해보도록 하겠습니다.\n",
        "\n",
        "코드를 실행하여 각각의 데이터 분석 코드의 실행 결과물이 어떻게 나타나는지 확인해보세요.\n",
        "\n",
        "만약 현재 pandas/numpy 라이브러리 사용법에 대해 익숙하지 않다면, 지금은 각각의 코드를 일일히 외우기보다는 ‘이런 코드들이 있구나’ 알아보는 정도로 충분합니다.\n",
        "\n",
        "pandas/numpy 라이브러리의 자세한 사용법은 뒤의 선택 과정에서 자세히 배우니까요!"
      ]
    },
    {
      "cell_type": "code",
      "metadata": {
        "id": "2gg-yzka5rvU",
        "colab_type": "code",
        "colab": {}
      },
      "source": [
        "from datetime import datetime #날짜와 시간을 쉽게 조작할 수 있게 하는 클래스 제공\n",
        "import pandas as pd\n",
        "\n",
        "# csv 형태의 주식 데이터 파일을 불러오는 코드\n",
        "df = pd.read_csv('stock.csv') \n",
        "\n",
        "# 데이터프레임 출력(데이터프레임은 (헹 X 열)로 이루어진 표 형태의 특수한 데이터 타입)\n",
        "print(df)\n",
        "\n",
        "\n",
        "# --- 주식 데이터 살펴보기 --- #\n",
        "\n",
        "print('\\n주식 데이터의 형태를 출력')\n",
        "print(df.shape)\n",
        "\n",
        "print('\\n주식 데이터의 정보를 출력')\n",
        "print(df.info)\n",
        "\n",
        "print('\\n주식 데이터의 데이터 타입을 출력')\n",
        "print(df.dtypes)\n",
        "\n",
        "print('\\n주식 데이터의 상단 5개 행을 출력')\n",
        "print(df.head())\n",
        "\n",
        "print('\\n주식 데이터의 하단 5개 행을 출력')\n",
        "print(df.tail())\n",
        "\n",
        "print('\\n주식 데이터의 모든 열을 출력')\n",
        "print(df.columns)\n",
        "\n",
        "print('\\n주식 데이터의 요약 통계 자료 출력')\n",
        "print(df.describe())"
      ],
      "execution_count": null,
      "outputs": []
    }
  ]
}