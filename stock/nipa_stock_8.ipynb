{
  "nbformat": 4,
  "nbformat_minor": 0,
  "metadata": {
    "colab": {
      "name": "nipa_stock_8.ipynb",
      "provenance": [],
      "authorship_tag": "ABX9TyOpcKNJziA4esas7Gea7Vgw",
      "include_colab_link": true
    },
    "kernelspec": {
      "name": "python3",
      "display_name": "Python 3"
    }
  },
  "cells": [
    {
      "cell_type": "markdown",
      "metadata": {
        "id": "view-in-github",
        "colab_type": "text"
      },
      "source": [
        "<a href=\"https://colab.research.google.com/github/minicks/nipa/blob/master/stock/nipa_stock_8.ipynb\" target=\"_parent\"><img src=\"https://colab.research.google.com/assets/colab-badge.svg\" alt=\"Open In Colab\"/></a>"
      ]
    },
    {
      "cell_type": "markdown",
      "metadata": {
        "id": "JZDDmdMx8yS3",
        "colab_type": "text"
      },
      "source": [
        "캔들 차트 시각화하기\n",
        "주가예측 딥러닝 모델 제작 프로세스를 따라가보는 과정입니다.\n",
        "사용된 패키지, 함수 등 모든 과정을 이해하려고 부담 갖지 않으셔도 됩니다.\n",
        "\n",
        "함수 및 라이브러리에 대한 자세한 설명은 선택과정에서 배울 수 있습니다.\n",
        "\n",
        "이번에는 주식의 차트를 캔들차트로 한번 표현해봅시다.\n",
        "\n",
        "캔들차트는 봉차트라고도 하는데, 캔들차트라는 이름이 붙은 이유는 생김새가 마치 양초(캔들)처럼 생겼기 때문입니다.\n",
        "\n",
        "이런 봉차트는 하나하나가 너무나 중요한데, 그 이유는 하나의 봉 속에 주식투자자들의 심리가 모두 반영되어 있기 때문입니다.\n",
        "\n",
        "그러다 보니 봉차트를 신봉하는 분들 중에는 재무상태표니, 포괄손익계산서니 하는 것들은 볼 필요도 없이 오직 봉차트만으로도 충분히 주식투자를 할 수 있다고 주장하는 사람들도 있을 정도입니다.\n",
        "\n",
        "이번 실습에서는 mplfinance 라이브러리를 사용해 간단히 주가 데이터를 캔들 차트로 시각화해보도록 하겠습니다."
      ]
    },
    {
      "cell_type": "code",
      "metadata": {
        "id": "8PQ0Y64n8qFn",
        "colab_type": "code",
        "colab": {}
      },
      "source": [
        "from datetime import datetime\n",
        "import pandas as pd\n",
        "import matplotlib.pyplot as plt\n",
        "import mplfinance as mpf\n",
        "import matplotlib.pyplot as plt\n",
        "import matplotlib.ticker as ticker \n",
        "import matplotlib.dates as mdates\n",
        "import numpy as np\n",
        "from elice_utils import EliceUtils\n",
        "elice_utils = EliceUtils()\n",
        "\n",
        "\n",
        "# 주식 데이터 불러오기\n",
        "df = pd.read_csv('stock.csv', index_col = 0, parse_dates = True) \n",
        "df2 = pd.read_csv('stock.csv', index_col = 0, parse_dates = True) \n",
        "\n",
        "print('주가 데이터 출력')\n",
        "print(df)\n",
        "\n",
        "\n",
        "# mplfinance 라이브러리를 사용하면 캔들 차트를 간편하게 시각화할 수 있습니다.\n",
        "mc = mpf.make_marketcolors(up='r',down='b')\n",
        "s  = mpf.make_mpf_style(marketcolors=mc)\n",
        "mpf.plot(df, type='candle', figscale=1.2, style=s)\n",
        "\n",
        "\n",
        "# 시각화 함수\n",
        "plt.savefig(\"plot.png\")\n",
        "elice_utils.send_image(\"plot.png\")"
      ],
      "execution_count": null,
      "outputs": []
    }
  ]
}