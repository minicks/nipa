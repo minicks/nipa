{
  "nbformat": 4,
  "nbformat_minor": 0,
  "metadata": {
    "colab": {
      "name": "draw.ipynb",
      "provenance": [],
      "authorship_tag": "ABX9TyOtjwqyGVwhdKiBcGOl2hO0",
      "include_colab_link": true
    },
    "kernelspec": {
      "name": "python3",
      "display_name": "Python 3"
    }
  },
  "cells": [
    {
      "cell_type": "markdown",
      "metadata": {
        "id": "view-in-github",
        "colab_type": "text"
      },
      "source": [
        "<a href=\"https://colab.research.google.com/github/minicks/nipa/blob/master/stock/draw.ipynb\" target=\"_parent\"><img src=\"https://colab.research.google.com/assets/colab-badge.svg\" alt=\"Open In Colab\"/></a>"
      ]
    },
    {
      "cell_type": "code",
      "metadata": {
        "id": "UrENcSdZAqhz",
        "colab_type": "code",
        "colab": {}
      },
      "source": [
        "# -*- coding: utf-8 -*-\n",
        "\n",
        "import base64 as _base64\n",
        "import fcntl as _fcntl\n",
        "import mimetypes as _mimetypes\n",
        "import os.path as _ospath\n",
        "import struct as _struct\n",
        "\n",
        "import numpy as np\n",
        "import pandas as pd\n",
        "import matplotlib as mpl\n",
        "mpl.use(\"Agg\")\n",
        "import matplotlib.pyplot as plt\n",
        "import sklearn.decomposition\n",
        "import sklearn.preprocessing\n",
        "import sklearn.cluster\n",
        "\n",
        "from elice_utils import EliceUtils  # isort:skip\n",
        "\n",
        "elice_utils = EliceUtils()\n",
        "\n",
        "def display_digits(X, title):\n",
        "    plt.clf()\n",
        "    plt.figure(figsize=(4, 4))\n",
        "    plt.imshow(X, cmap=plt.cm.gray_r, interpolation='nearest')\n",
        "    plt.title(title)\n",
        "\n",
        "    plt.savefig(\"image.svg\", format=\"svg\")\n",
        "    elice_utils.send_image(\"image.svg\")\n"
      ],
      "execution_count": null,
      "outputs": []
    }
  ]
}